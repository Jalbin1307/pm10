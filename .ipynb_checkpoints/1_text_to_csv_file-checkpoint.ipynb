{
 "cells": [
  {
   "cell_type": "code",
   "execution_count": 1,
   "metadata": {},
   "outputs": [],
   "source": [
    "import numpy as np\n",
    "from ast import literal_eval\n",
    "import csv"
   ]
  },
  {
   "cell_type": "code",
   "execution_count": 2,
   "metadata": {},
   "outputs": [],
   "source": [
    "def save_to_file(num):\n",
    "    file = open(\"test.csv\", mode=\"w\", newline='')\n",
    "    writer = csv.writer(file)\n",
    "    writer.writerow([\"PM2.5\", \"PM10\", \"PM1.0\", \"DATE\", \"ID\"])\n",
    "    for i in num:\n",
    "        writer.writerow(list(i.values()))\n",
    "    return"
   ]
  },
  {
   "cell_type": "code",
   "execution_count": 3,
   "metadata": {},
   "outputs": [
    {
     "name": "stdout",
     "output_type": "stream",
     "text": [
      "1\n"
     ]
    }
   ],
   "source": [
    "f = open(\"0331.txt\",'r')\n",
    "pm = []\n",
    "for i in range(0, 5755):\n",
    "    try :\n",
    "        line = f.readline()\n",
    "        date = line[-46:-30]\n",
    "        id = line[-4:-3]\n",
    "        data = literal_eval(line[13:-49])\n",
    "        data['raw'][0]['data']['date'] = date\n",
    "        data['raw'][0]['data']['id'] = id\n",
    "        pm.append(data['raw'][0]['data'])\n",
    "    except:\n",
    "        pass"
   ]
  },
  {
   "cell_type": "code",
   "execution_count": null,
   "metadata": {},
   "outputs": [],
   "source": [
    "pm"
   ]
  },
  {
   "cell_type": "code",
   "execution_count": null,
   "metadata": {},
   "outputs": [],
   "source": [
    "save_to_file(pm)"
   ]
  }
 ],
 "metadata": {
  "kernelspec": {
   "display_name": "Python 3",
   "language": "python",
   "name": "python3"
  },
  "language_info": {
   "codemirror_mode": {
    "name": "ipython",
    "version": 3
   },
   "file_extension": ".py",
   "mimetype": "text/x-python",
   "name": "python",
   "nbconvert_exporter": "python",
   "pygments_lexer": "ipython3",
   "version": "3.7.9"
  }
 },
 "nbformat": 4,
 "nbformat_minor": 2
}
