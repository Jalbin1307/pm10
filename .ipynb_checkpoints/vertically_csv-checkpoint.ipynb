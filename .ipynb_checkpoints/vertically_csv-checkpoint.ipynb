{
 "cells": [
  {
   "cell_type": "code",
   "execution_count": 1,
   "id": "dying-allocation",
   "metadata": {},
   "outputs": [],
   "source": [
    "import csv"
   ]
  },
  {
   "cell_type": "code",
   "execution_count": 2,
   "id": "medical-simpson",
   "metadata": {},
   "outputs": [],
   "source": [
    "list_1 = [\"Hello\", \"World\", \"Monty\", \"Python\"]\n",
    "list_2 = [1, 2, 3, 4]\n",
    "\n",
    "file = open(\"columns.csv\",\"w\", newline='')\n",
    "writer = csv.writer(file)\n",
    "\n",
    "for w in range(4):\n",
    "    \n",
    "    writer.writerow([list_1[w], list_2[w]])\n",
    "\n",
    "file.close()\n"
   ]
  },
  {
   "cell_type": "code",
   "execution_count": 4,
   "id": "stretch-match",
   "metadata": {},
   "outputs": [],
   "source": [
    "# test_github2"
   ]
  },
  {
   "cell_type": "code",
   "execution_count": null,
   "id": "second-sharp",
   "metadata": {},
   "outputs": [],
   "source": []
  }
 ],
 "metadata": {
  "kernelspec": {
   "display_name": "Python 3",
   "language": "python",
   "name": "python3"
  },
  "language_info": {
   "codemirror_mode": {
    "name": "ipython",
    "version": 3
   },
   "file_extension": ".py",
   "mimetype": "text/x-python",
   "name": "python",
   "nbconvert_exporter": "python",
   "pygments_lexer": "ipython3",
   "version": "3.7.9"
  }
 },
 "nbformat": 4,
 "nbformat_minor": 5
}
