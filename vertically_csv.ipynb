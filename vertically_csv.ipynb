{
 "cells": [
  {
   "cell_type": "code",
   "execution_count": 1,
   "id": "legal-genome",
   "metadata": {},
   "outputs": [],
   "source": [
    "import csv"
   ]
  },
  {
   "cell_type": "code",
   "execution_count": 5,
   "id": "german-sterling",
   "metadata": {},
   "outputs": [],
   "source": [
    "list_1 = [\"Hello\", \"World\", \"Monty\", \"Python\"]\n",
    "list_2 = [1, 2, 3, 4]\n",
    "\n",
    "file = open(\"columns.csv\",\"w\", newline='')\n",
    "writer = csv.writer(file)\n",
    "\n",
    "for w in range(4):\n",
    "    \n",
    "    writer.writerow([list_1[w], list_2[w]])\n",
    "\n",
    "file.close()\n"
   ]
  },
  {
   "cell_type": "code",
   "execution_count": 1,
   "id": "efficient-court",
   "metadata": {},
   "outputs": [],
   "source": [
    "# test_github"
   ]
  },
  {
   "cell_type": "code",
   "execution_count": null,
   "metadata": {},
   "outputs": [],
   "source": []
  }
 ],
 "metadata": {
  "kernelspec": {
   "name": "python379jvsc74a57bd0f21262c0afbb15faed8135845cedd494f83bb2f69c2df138ec3905c3580bf814",
   "display_name": "Python 3.7.9 64-bit ('tens_2gpu': conda)"
  },
  "language_info": {
   "codemirror_mode": {
    "name": "ipython",
    "version": 3
   },
   "file_extension": ".py",
   "mimetype": "text/x-python",
   "name": "python",
   "nbconvert_exporter": "python",
   "pygments_lexer": "ipython3",
   "version": "3.7.9"
  }
 },
 "nbformat": 4,
 "nbformat_minor": 5
}